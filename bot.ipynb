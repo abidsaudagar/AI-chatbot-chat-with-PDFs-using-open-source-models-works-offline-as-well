{
 "cells": [
  {
   "cell_type": "code",
   "execution_count": 1,
   "metadata": {},
   "outputs": [
    {
     "name": "stderr",
     "output_type": "stream",
     "text": [
      "/Users/abidsaudagar/Personal/AI-chatbot-chat-with-PDFs-using-open-source-models-works-offline-as-well/venv/lib/python3.9/site-packages/urllib3/__init__.py:34: NotOpenSSLWarning: urllib3 v2.0 only supports OpenSSL 1.1.1+, currently the 'ssl' module is compiled with 'LibreSSL 2.8.3'. See: https://github.com/urllib3/urllib3/issues/3020\n",
      "  warnings.warn(\n"
     ]
    }
   ],
   "source": [
    "from langchain import PromptTemplate\n",
    "from langchain.embeddings import HuggingFaceEmbeddings\n",
    "from langchain.vectorstores import FAISS\n",
    "from langchain.llms import CTransformers\n",
    "from langchain.chains import RetrievalQA\n",
    "\n",
    "# Add here the path of your downloaded open-source model. Here I'm using \"llama-2-7b-chat.ggmlv3.q2_K.bin\" from HuggingFace.\n",
    "MODEL_PATH = \"llama-2-7b-chat.ggmlv3.q2_K.bin\" \n",
    "\n",
    "DB_FAISS_PATH = 'vectorstore/test_db_faiss'\n",
    "\n",
    "\n",
    "custom_prompt_template = \"\"\"Use the following pieces of information to answer the user's question.\n",
    "If you don't know the answer, just say that you don't know, don't try to make up an answer.\n",
    "\n",
    "Context: {context}\n",
    "Question: {question}\n",
    "\n",
    "Only return the helpful answer below and nothing else.\n",
    "Helpful answer:\n",
    "\"\"\"\n",
    "\n",
    "def set_custom_prompt():\n",
    "    \"\"\"\n",
    "    Prompt template for QA retrieval for each vector stores.\n",
    "    \"\"\"\n",
    "\n",
    "    prompt = PromptTemplate(template=custom_prompt_template, input_variables=['context','question'])\n",
    "\n",
    "    return prompt\n",
    "\n",
    "\n",
    "#Retrieval QA Chain\n",
    "def retrieval_qa_chain(llm, prompt, db):\n",
    "    qa_chain = RetrievalQA.from_chain_type(llm=llm,\n",
    "                                       chain_type='stuff',\n",
    "                                       retriever=db.as_retriever(search_kwargs={'k': 2}),\n",
    "                                       return_source_documents=True,\n",
    "                                       chain_type_kwargs={'prompt': prompt}\n",
    "                                       )\n",
    "    return qa_chain\n",
    "\n",
    "\n",
    "\n",
    "#Loading the model\n",
    "def load_llm():\n",
    "    # Load the locally downloaded model here\n",
    "    llm = CTransformers(\n",
    "        model = MODEL_PATH,\n",
    "        model_type=\"llama\",\n",
    "        max_new_tokens = 512,\n",
    "        temperature = 0.5\n",
    "    )\n",
    "    return llm\n",
    "\n",
    "#QA Model Function\n",
    "def qa_bot():\n",
    "    embeddings = HuggingFaceEmbeddings(model_name=\"sentence-transformers/all-MiniLM-L6-v2\",\n",
    "                                       model_kwargs={'device': 'cuda'})\n",
    "    db = FAISS.load_local(DB_FAISS_PATH, embeddings)\n",
    "    llm = load_llm()\n",
    "    qa_prompt = set_custom_prompt()\n",
    "    qa = retrieval_qa_chain(llm, qa_prompt, db)\n",
    "\n",
    "    return qa\n",
    "\n",
    "#output function\n",
    "def final_result(query):\n",
    "    qa_result = qa_bot()\n",
    "    response = qa_result({'query': query})\n",
    "    return response\n",
    "\n"
   ]
  },
  {
   "cell_type": "code",
   "execution_count": 7,
   "metadata": {},
   "outputs": [],
   "source": [
    "q1 = final_result('why building habit is difficult?')"
   ]
  },
  {
   "cell_type": "code",
   "execution_count": 8,
   "metadata": {},
   "outputs": [
    {
     "data": {
      "text/plain": [
       "\"Does it have something to do with procrastination, lack of motivation or focus, or a mix of all of these?\\n\\nI don't know. \""
      ]
     },
     "execution_count": 8,
     "metadata": {},
     "output_type": "execute_result"
    }
   ],
   "source": [
    "q1['result']"
   ]
  },
  {
   "cell_type": "code",
   "execution_count": 9,
   "metadata": {},
   "outputs": [
    {
     "data": {
      "text/plain": [
       "[Document(page_content='Why Is It So Hard to Stick to Good \\nHabits? \\n \\n \\nIt seems to be remarkably easy to fall into unhealthy routines.  \\n \\n★Eating junk food.  \\n★Watching TV instead of going to the gym.  \\n★Showing up to a job you hate everyday.  \\n★Biting your nails. \\n★Smoking.  \\n \\nThere’s no shortage of unhealthy and unproductive behaviors. And we all struggle \\nwith them from time to time. \\n \\nBut why? You want to live a healthy, fulfilling, and remarkable life. And every now', metadata={'source': 'test_data/james-clear-transform-your-habits-v3.pdf', 'page': 4}),\n",
       " Document(page_content=\"you. It’s tough to find a reward in something when you’re only doing it because you think \\nother people expect it or would approve of it. It's your life, so make sure you're spending \\nyour time on things that are important to you. \\n \\nNow that we've covered the science of habit formation, let's talk about how to use \\nit in real life.  \\n \\n \\n \\n \\n \\n \\nJamesClear.com Page 14\", metadata={'source': 'test_data/james-clear-transform-your-habits-v3.pdf', 'page': 14})]"
      ]
     },
     "execution_count": 9,
     "metadata": {},
     "output_type": "execute_result"
    }
   ],
   "source": [
    "q1[\"source_documents\"]"
   ]
  },
  {
   "cell_type": "code",
   "execution_count": 12,
   "metadata": {},
   "outputs": [],
   "source": [
    "q2 = final_result(\"how to make it easy?\")"
   ]
  },
  {
   "cell_type": "code",
   "execution_count": 13,
   "metadata": {},
   "outputs": [
    {
     "data": {
      "text/plain": [
       "\"You don't have to try too hard to make things easy. Just start with small, incremental steps toward your goals every day. It's okay if it doesn't happen all at once. \""
      ]
     },
     "execution_count": 13,
     "metadata": {},
     "output_type": "execute_result"
    }
   ],
   "source": [
    "q2['result']"
   ]
  },
  {
   "cell_type": "code",
   "execution_count": 14,
   "metadata": {},
   "outputs": [
    {
     "data": {
      "text/plain": [
       "[Document(page_content='on life in general.  \\n \\n \\nStep 2: Make Your Habits Incredibly Easy to Start  \\n \\nMake it so easy you can’t say no.  \\n—Leo Babauta \\n \\nAs I mentioned in the beginning of this guide, it’s incredibly easy to get caught up \\nin the desire to make massive changes in your life. We watch incredible weight loss \\n \\nJamesClear.com Page 12', metadata={'source': 'test_data/james-clear-transform-your-habits-v3.pdf', 'page': 12}),\n",
       " Document(page_content='focus on getting things done.  \\n \\nI’m not always on top of my game, but on the days I train everything seems to \\ncome a little bit easier. Exercise naturally pushes me towards my best self.  \\n \\n \\nWhat Are Your Keystone Habits? \\n \\nImproving your lifestyle and becoming the type of person who “has their act \\ntogether” isn’t nearly as hard as you might think. In fact, you might need just \\none keystone habit before the dominoes start falling everywhere.  \\n \\n \\nJamesClear.com Page 31', metadata={'source': 'test_data/james-clear-transform-your-habits-v3.pdf', 'page': 31})]"
      ]
     },
     "execution_count": 14,
     "metadata": {},
     "output_type": "execute_result"
    }
   ],
   "source": [
    "q2[\"source_documents\"]"
   ]
  },
  {
   "cell_type": "code",
   "execution_count": 15,
   "metadata": {},
   "outputs": [],
   "source": [
    "q3 = final_result(\"who is the author?\")"
   ]
  },
  {
   "cell_type": "code",
   "execution_count": 16,
   "metadata": {},
   "outputs": [
    {
     "data": {
      "text/plain": [
       "'The author of James Clear\\'s \"Making Habit Stacking Work\" is James Clear himself.'"
      ]
     },
     "execution_count": 16,
     "metadata": {},
     "output_type": "execute_result"
    }
   ],
   "source": [
    "q3['result']"
   ]
  },
  {
   "cell_type": "code",
   "execution_count": 17,
   "metadata": {},
   "outputs": [
    {
     "data": {
      "text/plain": [
       "[Document(page_content='JamesClear.com Page 10', metadata={'source': 'test_data/james-clear-transform-your-habits-v3.pdf', 'page': 10}),\n",
       " Document(page_content='names.”  \\n \\nEven today, she is great at remembering the names of anyone we come across.  \\n \\nJamesClear.com Page 16', metadata={'source': 'test_data/james-clear-transform-your-habits-v3.pdf', 'page': 16})]"
      ]
     },
     "execution_count": 17,
     "metadata": {},
     "output_type": "execute_result"
    }
   ],
   "source": [
    "q3[\"source_documents\"]"
   ]
  },
  {
   "cell_type": "code",
   "execution_count": null,
   "metadata": {},
   "outputs": [],
   "source": []
  }
 ],
 "metadata": {
  "kernelspec": {
   "display_name": "venv",
   "language": "python",
   "name": "python3"
  },
  "language_info": {
   "codemirror_mode": {
    "name": "ipython",
    "version": 3
   },
   "file_extension": ".py",
   "mimetype": "text/x-python",
   "name": "python",
   "nbconvert_exporter": "python",
   "pygments_lexer": "ipython3",
   "version": "3.9.6"
  },
  "orig_nbformat": 4
 },
 "nbformat": 4,
 "nbformat_minor": 2
}
